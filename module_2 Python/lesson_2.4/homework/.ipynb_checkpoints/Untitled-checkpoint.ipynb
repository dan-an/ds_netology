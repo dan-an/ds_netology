{
 "cells": [
  {
   "cell_type": "markdown",
   "metadata": {},
   "source": [
    "## Задание 4"
   ]
  },
  {
   "cell_type": "markdown",
   "metadata": {},
   "source": [
    "Вы работаете секретарем и вам постоянно приходят различные документы. Вы должны быть очень внимательны, чтобы не потерять ни один документ. Каталог документов хранится в следующем"
   ]
  },
  {
   "cell_type": "code",
   "execution_count": 1,
   "metadata": {},
   "outputs": [],
   "source": [
    "documents = [\n",
    "    {'type': 'passport', 'number': '2207 876234', 'name': 'Василий Гупкин'},\n",
    "    {'type': 'invoice', 'number': '11-2', 'name': 'Геннадий Покемонов'},\n",
    "    {'type': 'insurance', 'number': '10006', 'name': 'Аристарх Павлов'}\n",
    "]"
   ]
  },
  {
   "cell_type": "markdown",
   "metadata": {},
   "source": [
    "Перечень полок, на которых находятся документы хранится в следующем виде:"
   ]
  },
  {
   "cell_type": "code",
   "execution_count": 2,
   "metadata": {},
   "outputs": [],
   "source": [
    "directories = {\n",
    "    '1': ['2207 876234', '11-2', '5455 028765'],\n",
    "    '2': ['10006', '5400 028765', '5455 002299'],\n",
    "    '3': []\n",
    "}"
   ]
  },
  {
   "cell_type": "markdown",
   "metadata": {},
   "source": [
    "Необходимо реализовать пользовательские команды (внимание! это не название функций, которые должны быть выразительными, а команды, которые вводит пользователь, чтобы получить необходимый результат):\n",
    "\n",
    "p – people – команда, которая спросит номер документа и выведет имя человека, которому он принадлежит;\n",
    "s – shelf – команда, которая спросит номер документа и выведет номер полки, на которой он находится\n",
    "Правильно обработайте ситуацию, когда пользователь будет вводить несуществующий документ."
   ]
  },
  {
   "cell_type": "code",
   "execution_count": 30,
   "metadata": {},
   "outputs": [],
   "source": [
    "doc_id = None\n",
    "    \n",
    "def get_doc_id():\n",
    "        global doc_id\n",
    "        doc_id = input(\"Введите номер документа: \")\n",
    "    \n",
    "def get_name():\n",
    "    while True:\n",
    "        get_doc_id()\n",
    "        try:\n",
    "            return next(document for document in documents if document['number'] == doc_id)['name']\n",
    "        except:\n",
    "            show_warning('doc_error')\n",
    "            continue\n",
    "        \n",
    "def get_shelf():\n",
    "    shelf_id = None\n",
    "    \n",
    "    while True:\n",
    "        get_doc_id()\n",
    "        \n",
    "        for shelf, docs_list in directories.items():\n",
    "            if doc_id in docs_list:\n",
    "                shelf_id = shelf\n",
    "                \n",
    "        if shelf_id != None:\n",
    "            return shelf_id\n",
    "        else:\n",
    "            show_warning('doc_error')\n",
    "            continue\n",
    "    \n",
    "def get_list():\n",
    "    docs_for_print = []\n",
    "    for document in documents:\n",
    "        docs_for_print.append(f\"{document.get('type')} \\\"{document.get('number')}\\\" {document.get('name')}\")\n",
    "    \n",
    "    return docs_for_print\n",
    "        \n",
    "def show_warning(error):\n",
    "    errors = {\n",
    "        'comand_error': 'Несуществующая команда. Введите валидную команду. Для выхода введите q',\n",
    "        'doc_error': 'Документ отсутствует в базе. Введите другой номер документа. Для выхода введите q'\n",
    "    }\n",
    "    \n",
    "    print(errors[error])\n",
    "\n",
    "    \n",
    "    \n",
    "def test():\n",
    "    comand_list = ['p', 's', 'l', 'q']\n",
    "    comand = None\n",
    "    result = ''\n",
    "\n",
    "    while comand == None or comand not in comand_list:\n",
    "        comand = input(\"Введите команду: \")\n",
    "        if comand not in comand_list: print(show_warning('comand_error'))\n",
    "        elif comand == 'q': return\n",
    "        \n",
    "    if comand == 'p':\n",
    "        result = get_name()\n",
    "    elif comand == 's':\n",
    "        result = get_shelf()\n",
    "    elif comand == 'l':\n",
    "        print(*get_list(), sep = '\\n')\n",
    "        \n",
    "    print(result if result != None else show_warning('doc_error'))\n",
    "    \n",
    "    return"
   ]
  },
  {
   "cell_type": "code",
   "execution_count": 31,
   "metadata": {},
   "outputs": [
    {
     "name": "stdout",
     "output_type": "stream",
     "text": [
      "Введите команду: s\n",
      "Введите номер документа: 123\n",
      "Документ отсутствует в базе. Введите другой номер документа. Для выхода введите q\n",
      "Введите номер документа: 313\n",
      "Документ отсутствует в базе. Введите другой номер документа. Для выхода введите q\n",
      "Введите номер документа: 2207 876234\n",
      "1\n"
     ]
    }
   ],
   "source": [
    "test()"
   ]
  }
 ],
 "metadata": {
  "kernelspec": {
   "display_name": "Python 3",
   "language": "python",
   "name": "python3"
  },
  "language_info": {
   "codemirror_mode": {
    "name": "ipython",
    "version": 3
   },
   "file_extension": ".py",
   "mimetype": "text/x-python",
   "name": "python",
   "nbconvert_exporter": "python",
   "pygments_lexer": "ipython3",
   "version": "3.7.3"
  }
 },
 "nbformat": 4,
 "nbformat_minor": 2
}
