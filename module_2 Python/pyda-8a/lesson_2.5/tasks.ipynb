{
 "cells": [
  {
   "cell_type": "markdown",
   "metadata": {},
   "source": [
    "1. Переведите содержимое файла purchase_log.txt в словарь purchases вида:\n",
    "```python\n",
    "{'1840e0b9d4': 'Продукты', ...}\n",
    "```\n",
    "2. Для каждого user_id в файле visit_log.csv добавьте третий столбец с категорией покупки (если покупка была).\n",
    "3. Запишите в файл funnel.csv визиты из файла visit_log.csv, в которых были покупки с указанием категории."
   ]
  },
  {
   "cell_type": "code",
   "execution_count": 1,
   "metadata": {},
   "outputs": [],
   "source": [
    "import json"
   ]
  },
  {
   "cell_type": "code",
   "execution_count": 2,
   "metadata": {},
   "outputs": [],
   "source": [
    "purchase_data = open('data/purchase_log.txt', 'r')"
   ]
  },
  {
   "cell_type": "code",
   "execution_count": 3,
   "metadata": {},
   "outputs": [],
   "source": [
    "purchases = {json.loads(purchase.strip()).get(\"user_id\"): json.loads(purchase.strip()).get(\"category\") for purchase in purchase_data.readlines()}"
   ]
  },
  {
   "cell_type": "code",
   "execution_count": 4,
   "metadata": {},
   "outputs": [],
   "source": [
    "with open('data/visit_log.csv') as visit_data, open('data/visit_with_category.csv', 'w') as output:\n",
    "    header = visit_data.readline()\n",
    "    output.write(f\"{header.strip()},category\\n\")\n",
    "    \n",
    "    for line in visit_data:\n",
    "        visit = line.strip().split(',')\n",
    "        \n",
    "        if purchases.get(visit[0]) != None:\n",
    "            visit.append(purchases.get(visit[0]))\n",
    "        else:\n",
    "            visit.append('')\n",
    "\n",
    "        output.write(f\"{','.join(visit)}\\n\")"
   ]
  },
  {
   "cell_type": "code",
   "execution_count": 5,
   "metadata": {},
   "outputs": [],
   "source": [
    "with open('data/visit_with_category.csv') as visit_data, open('data/funnel.csv', 'w') as output:\n",
    "    header = visit_data.readline()\n",
    "    output.write(header)\n",
    "    \n",
    "    for line in visit_data:\n",
    "        if line.strip().split(',')[2] != '':\n",
    "            output.write(line)"
   ]
  }
 ],
 "metadata": {
  "kernelspec": {
   "display_name": "Python 3",
   "language": "python",
   "name": "python3"
  },
  "language_info": {
   "codemirror_mode": {
    "name": "ipython",
    "version": 3
   },
   "file_extension": ".py",
   "mimetype": "text/x-python",
   "name": "python",
   "nbconvert_exporter": "python",
   "pygments_lexer": "ipython3",
   "version": "3.7.3"
  }
 },
 "nbformat": 4,
 "nbformat_minor": 2
}
