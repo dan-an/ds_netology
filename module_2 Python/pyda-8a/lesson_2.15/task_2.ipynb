{
 "cells": [
  {
   "cell_type": "markdown",
   "metadata": {},
   "source": [
    "## Задание 2"
   ]
  },
  {
   "cell_type": "markdown",
   "metadata": {},
   "source": [
    "Найдите собственные значения и собственные вектора матриц (необходимо решение на numpy и решение по алгоритму на бумажке). Для матрицы 3x3 можно посмотреть на корни характеристического многочлена, посчитанные в numpy.m"
   ]
  },
  {
   "cell_type": "code",
   "execution_count": 3,
   "metadata": {},
   "outputs": [],
   "source": [
    "import numpy as np"
   ]
  },
  {
   "cell_type": "code",
   "execution_count": 4,
   "metadata": {},
   "outputs": [],
   "source": [
    "m1 = np.array([[2, 2],\n",
    "               [1, 3]])\n",
    "\n",
    "m2 = np.array([[4, 1, -1],\n",
    "               [1, 4, -1],\n",
    "               [-1, -1, 4]])"
   ]
  },
  {
   "cell_type": "code",
   "execution_count": 8,
   "metadata": {},
   "outputs": [
    {
     "name": "stdout",
     "output_type": "stream",
     "text": [
      "[1. 4.] [[-0.89442719 -0.70710678]\n",
      " [ 0.4472136  -0.70710678]]\n"
     ]
    }
   ],
   "source": [
    "w,v = np.linalg.eig(m1)\n",
    "print(w, v)"
   ]
  },
  {
   "cell_type": "code",
   "execution_count": 14,
   "metadata": {},
   "outputs": [],
   "source": [
    "def get_eigen(matrix):\n",
    "    values, vectors = np.linalg.eig(matrix)\n",
    "    \n",
    "    return list(zip(values, vectors))"
   ]
  },
  {
   "cell_type": "code",
   "execution_count": 13,
   "metadata": {},
   "outputs": [
    {
     "name": "stdout",
     "output_type": "stream",
     "text": [
      "{1.0: array([-0.89442719, -0.70710678]), 4.0: array([ 0.4472136 , -0.70710678])}\n",
      "{5.999999999999998: array([-0.57735027, -0.81649658,  0.15430335]), 2.9999999999999982: array([-0.57735027,  0.40824829,  0.6172134 ]), 2.9999999999999996: array([ 0.57735027, -0.40824829,  0.77151675])}\n"
     ]
    }
   ],
   "source": [
    "print(get_eigen(m1))\n",
    "print(get_eigen(m2))"
   ]
  }
 ],
 "metadata": {
  "kernelspec": {
   "display_name": "Python 3",
   "language": "python",
   "name": "python3"
  },
  "language_info": {
   "codemirror_mode": {
    "name": "ipython",
    "version": 3
   },
   "file_extension": ".py",
   "mimetype": "text/x-python",
   "name": "python",
   "nbconvert_exporter": "python",
   "pygments_lexer": "ipython3",
   "version": "3.8.0"
  }
 },
 "nbformat": 4,
 "nbformat_minor": 2
}
