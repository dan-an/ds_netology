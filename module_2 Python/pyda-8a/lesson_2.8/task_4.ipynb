{
 "cells": [
  {
   "cell_type": "markdown",
   "metadata": {},
   "source": [
    "## Задание 4"
   ]
  },
  {
   "cell_type": "markdown",
   "metadata": {},
   "source": [
    "Напишите функцию, которая будет проверять номер сотового телефона на валидность, если он валиден, то переводить его в формат:\n",
    "+7(xxx)-xxx-xx-xx\n",
    "\n",
    "Постарайтесь предусмотреть как можно больше адекватных форматов изначального ввода номера. Примеры валидных форматов:\n",
    "\n",
    "- +7 955 555-55-55;\n",
    "- 9555555555;\n",
    "- 8(955)555-55-55;\n",
    "- +7 955 555 55 55;\n",
    "- 7(955) 555-55-55;\n",
    "- +7 955+555+55+55."
   ]
  },
  {
   "cell_type": "code",
   "execution_count": 73,
   "metadata": {},
   "outputs": [],
   "source": [
    "test_numbers = [\n",
    "    \"+7 955 555-55-55\",\n",
    "    \"9555555555\",\n",
    "    \"8(955)555-55-55\",\n",
    "    \"+7 955 555 55 55\",\n",
    "    \"7(955) 555-55-55\",\n",
    "    \"+7 955+555+55+55\",\n",
    "    \"7(955 555-55-55\",\n",
    "    \"7955 555-55-55\",\n",
    "    \"79555555555\",\n",
    "    \"109999999999\",\n",
    "    \"1\",\n",
    "    \"a9999999999\",\n",
    "    \"invalid\",\n",
    "    \"+\"\n",
    "]"
   ]
  },
  {
   "cell_type": "code",
   "execution_count": 1,
   "metadata": {},
   "outputs": [],
   "source": [
    "import re"
   ]
  },
  {
   "cell_type": "code",
   "execution_count": 71,
   "metadata": {},
   "outputs": [],
   "source": [
    "def validate_phone_number(phone):\n",
    "    pattern = r'^(\\+?7|8)?\\s?\\(?(\\d{3})\\)?\\+?-?\\s?(\\d{3})\\+?-?\\s?(\\d{2})\\+?-?\\s?(\\d{2})$'\n",
    "    matched = re.match(pattern, phone)\n",
    "    \n",
    "    return f\"+7({matched.group(2)}){matched.group(3)}-{matched.group(4)}-{matched.group(5)}\" if matched is not None else \"Not valid\""
   ]
  },
  {
   "cell_type": "code",
   "execution_count": 74,
   "metadata": {},
   "outputs": [
    {
     "name": "stdout",
     "output_type": "stream",
     "text": [
      "+7(955)555-55-55\n",
      "+7(955)555-55-55\n",
      "+7(955)555-55-55\n",
      "+7(955)555-55-55\n",
      "+7(955)555-55-55\n",
      "+7(955)555-55-55\n",
      "+7(955)555-55-55\n",
      "+7(955)555-55-55\n",
      "+7(955)555-55-55\n",
      "Not valid\n",
      "Not valid\n",
      "Not valid\n",
      "Not valid\n",
      "Not valid\n"
     ]
    }
   ],
   "source": [
    "for number in test_numbers:\n",
    "    print(validate_phone_number(number))"
   ]
  }
 ],
 "metadata": {
  "kernelspec": {
   "display_name": "Python 3",
   "language": "python",
   "name": "python3"
  },
  "language_info": {
   "codemirror_mode": {
    "name": "ipython",
    "version": 3
   },
   "file_extension": ".py",
   "mimetype": "text/x-python",
   "name": "python",
   "nbconvert_exporter": "python",
   "pygments_lexer": "ipython3",
   "version": "3.8.0"
  }
 },
 "nbformat": 4,
 "nbformat_minor": 2
}
