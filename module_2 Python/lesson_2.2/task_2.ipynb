{
 "cells": [
  {
   "cell_type": "markdown",
   "metadata": {},
   "source": [
    "Выведите на экран все уникальные гео-ID из списка координат ids. Т. е. список вида [213, 15, 54, 119, 98, 35]\n",
    "ids = [[‘user1’, [213, 213, 213, 15, 213]], [‘user2’, [54, 54, 119, 119, 119]], [‘user3’, [213, 98, 98, 35]]]"
   ]
  },
  {
   "cell_type": "code",
   "execution_count": 12,
   "metadata": {},
   "outputs": [],
   "source": [
    "#решение через множество (set)\n",
    "def get_unique_ids_set(data):\n",
    "    unique_ids = []\n",
    "    \n",
    "    for user in data:\n",
    "        unique_ids.extend(user[1])\n",
    "    \n",
    "    return list(set(unique_ids))"
   ]
  },
  {
   "cell_type": "code",
   "execution_count": 13,
   "metadata": {},
   "outputs": [],
   "source": [
    "#решение через словари (dictionary)\n",
    "def get_unique_ids_dict(data):\n",
    "    unique_ids = []\n",
    "    \n",
    "    for user in data:\n",
    "        unique_ids.extend(user[1])\n",
    "    \n",
    "    return list(dict.fromkeys(unique_ids))"
   ]
  },
  {
   "cell_type": "code",
   "execution_count": 14,
   "metadata": {},
   "outputs": [
    {
     "name": "stdout",
     "output_type": "stream",
     "text": [
      "[98, 35, 15, 213, 54, 119]\n",
      "[213, 15, 54, 119, 98, 35]\n"
     ]
    }
   ],
   "source": [
    "ids = [\n",
    "    ['user1', [213, 213, 213, 15, 213]], \n",
    "    ['user2', [54, 54, 119, 119, 119]],\n",
    "    ['user3', [213, 98, 98, 35]]\n",
    "]\n",
    "\n",
    "print(get_unique_ids_set(ids))\n",
    "print(get_unique_ids_dict(ids))"
   ]
  }
 ],
 "metadata": {
  "kernelspec": {
   "display_name": "Python 3",
   "language": "python",
   "name": "python3"
  },
  "language_info": {
   "codemirror_mode": {
    "name": "ipython",
    "version": 3
   },
   "file_extension": ".py",
   "mimetype": "text/x-python",
   "name": "python",
   "nbconvert_exporter": "python",
   "pygments_lexer": "ipython3",
   "version": "3.7.3"
  }
 },
 "nbformat": 4,
 "nbformat_minor": 2
}
