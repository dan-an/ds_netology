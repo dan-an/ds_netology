{
 "cells": [
  {
   "cell_type": "markdown",
   "metadata": {},
   "source": [
    "Задание 1\n",
    "https://ru.wikipedia.org/wiki/Fizz_buzz\n",
    "Начинающий произносит число “1”, и каждый следующий игрок прибавляет к предыдущему значению единицу. Когда число делится на три оно заменяется на fizz, если число делится на пять, то произносится buzz. Числа, делящиеся на три и пять одновременно заменяются на fizz buzz. Сделавший ошибку игрок исключается из игры.\n",
    "\n",
    "Типичная партия в fizz buzz выглядит так:\n",
    "1, 2, Fizz, 4, Buzz, Fizz, 7, 8, Fizz, Buzz, 11, Fizz, 13, 14, Fizz Buzz, 16, 17, Fizz, 19, Buzz, Fizz, 22, 23, Fizz, Buzz, 26, Fizz, 28, 29, Fizz Buzz, 31, 32, Fizz, 34, Buzz, Fizz, …\n",
    "\n",
    "Напишите код, выводящий на экран первые n элементов этой игры (естественно, корректные)."
   ]
  },
  {
   "cell_type": "code",
   "execution_count": 8,
   "metadata": {},
   "outputs": [],
   "source": [
    "def fizz_buzz_print(elements_number):\n",
    "    elements_list = []\n",
    "    i = 1\n",
    "    \n",
    "    while i <= elements_number:\n",
    "        if i % 15 == 0:\n",
    "            elements_list.append('Fizz Buzz')\n",
    "        elif i % 5 == 0:\n",
    "            elements_list.append('Buzz')\n",
    "        elif i % 3 == 0:\n",
    "            elements_list.append('Fizz')\n",
    "        else:\n",
    "            elements_list.append(str(i))\n",
    "        i += 1\n",
    "            \n",
    "    print(', '.join(elements_list))"
   ]
  },
  {
   "cell_type": "code",
   "execution_count": 11,
   "metadata": {},
   "outputs": [
    {
     "name": "stdout",
     "output_type": "stream",
     "text": [
      "1, 2, Fizz, 4, Buzz, Fizz, 7, 8, Fizz, Buzz, 11, Fizz, 13, 14, Fizz Buzz\n"
     ]
    }
   ],
   "source": [
    "fizz_buzz_print(15)"
   ]
  }
 ],
 "metadata": {
  "kernelspec": {
   "display_name": "Python 3",
   "language": "python",
   "name": "python3"
  },
  "language_info": {
   "codemirror_mode": {
    "name": "ipython",
    "version": 3
   },
   "file_extension": ".py",
   "mimetype": "text/x-python",
   "name": "python",
   "nbconvert_exporter": "python",
   "pygments_lexer": "ipython3",
   "version": "3.7.3"
  }
 },
 "nbformat": 4,
 "nbformat_minor": 2
}
