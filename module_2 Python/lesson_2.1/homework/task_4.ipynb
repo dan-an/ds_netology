{
 "cells": [
  {
   "cell_type": "markdown",
   "metadata": {},
   "source": [
    "Задание 4.\n",
    "Нужно разработать приложение для финансового планирования.\n",
    "Приложение учитывает сколько уходит на ипотеку, “на жизнь” и сколько нужно отложить на пенсию.\n",
    "Пользователь вводит заработанную плату в месяц.\n",
    "Сколько процентов от зп уходит на ипотеку.\n",
    "Сколько процентов от зп уходит “на жизнь”.\n",
    "Сколько раз приходит премия в год.\n",
    "Остальная часть заработанной платы откладывается на пенсию.\n",
    "Также пользователю приходит премия в размере зарплаты, от которой половина уходит на отпуск, а вторая половина откладывается.\n",
    "Программа должна учитывать сколько премий было в год.\n",
    "Нужно вывести сколько денег тратит пользователь на ипотеку и сколько он накопит за год.\n",
    "Пример:\n",
    "\n",
    "Введите заработанную плату в месяц: 100000\n",
    "Введите сколько процентов уходит на ипотеку: 30\n",
    "Введите сколько процентов уходит на жизнь: 50\n",
    "Введите количество премий за год: 2\n",
    "\n",
    "Вывод:\n",
    "На ипотеку было потрачено: 360000 рублей\n",
    "Было накоплено: 340000 рублей"
   ]
  },
  {
   "cell_type": "code",
   "execution_count": 4,
   "metadata": {},
   "outputs": [],
   "source": [
    "def fin_plan():\n",
    "    salary = int(input(\"Введите заработанную плату в месяц: \"))\n",
    "    credit_part = int(input(\"Введите сколько процентов уходит на ипотеку: \"))\n",
    "    life_costs_part = int(input(\"Введите сколько процентов уходит на жизнь: \"))\n",
    "    bonuses_per_year = int(input(\"Введите количество премий за год: \"))\n",
    "    credit_absolute = (salary / 100) * credit_part\n",
    "    life_costs_absolute = (salary / 100) * life_costs_part\n",
    "    \n",
    "    savings = (salary*bonuses_per_year) / 2 + (salary - credit_absolute - life_costs_absolute) * 12\n",
    "    \n",
    "    print(\"На ипотеку было потрачено: {} рублей\".format(int(credit_absolute * 12)))\n",
    "    print(\"Было накоплено: {} рублей\".format(int(savings)))\n",
    "    "
   ]
  },
  {
   "cell_type": "code",
   "execution_count": 5,
   "metadata": {},
   "outputs": [
    {
     "name": "stdout",
     "output_type": "stream",
     "text": [
      "Введите заработанную плату в месяц: 100000\n",
      "Введите сколько процентов уходит на ипотеку: 30\n",
      "Введите сколько процентов уходит на жизнь: 50\n",
      "Введите количество премий за год: 2\n",
      "На ипотеку было потрачено: 360000 рублей\n",
      "Было накоплено: 340000 рублей\n"
     ]
    }
   ],
   "source": [
    "fin_plan()"
   ]
  },
  {
   "cell_type": "code",
   "execution_count": null,
   "metadata": {},
   "outputs": [],
   "source": []
  }
 ],
 "metadata": {
  "kernelspec": {
   "display_name": "Python 3",
   "language": "python",
   "name": "python3"
  },
  "language_info": {
   "codemirror_mode": {
    "name": "ipython",
    "version": 3
   },
   "file_extension": ".py",
   "mimetype": "text/x-python",
   "name": "python",
   "nbconvert_exporter": "python",
   "pygments_lexer": "ipython3",
   "version": "3.7.3"
  }
 },
 "nbformat": 4,
 "nbformat_minor": 2
}
