{
 "cells": [
  {
   "cell_type": "markdown",
   "metadata": {},
   "source": [
    "Задание 3.\n",
    "Разработать приложение для определения знака зодиака по дате рождения.\n",
    "Пример:\n",
    "\n",
    "Введите месяц: март\n",
    "Введите число: 6\n",
    "\n",
    "Вывод:\n",
    "Рыбы"
   ]
  },
  {
   "cell_type": "code",
   "execution_count": 12,
   "metadata": {},
   "outputs": [],
   "source": [
    "import datetime\n",
    "import time"
   ]
  },
  {
   "cell_type": "code",
   "execution_count": 25,
   "metadata": {},
   "outputs": [
    {
     "name": "stdout",
     "output_type": "stream",
     "text": [
      "Введите месяц:Июнь\n",
      "Введите число:21\n",
      "1561150800.0\n"
     ]
    }
   ],
   "source": [
    "def get_zodiac_sign():\n",
    "    month_dictionary = {\n",
    "        'январь': 1,\n",
    "        'февраль': 2,\n",
    "        'март': 3,\n",
    "        'апрель': 4,\n",
    "        'май': 5,\n",
    "        'июнь': 6,\n",
    "        'июль': 7,\n",
    "        'август': 8,\n",
    "        'сентябрь': 9,\n",
    "        'октябрь': 10,\n",
    "        'ноябрь': 11,\n",
    "        'декабрь': 12,\n",
    "    }\n",
    "    month = month_dictionary[input(\"Введите месяц:\").lower()]\n",
    "    date = int(input(\"Введите число:\")) + 1\n",
    "    year = datetime.date.today().year\n",
    "    \n",
    "    curr_timestamp = time.mktime(time.strptime(str(datetime.date(year, month, date)), '%Y-%m-%d'))\n",
    "    \n",
    "    \n",
    "    \n",
    "    print(curr_timestamp)\n",
    "    \n",
    "zodiac_sign()"
   ]
  },
  {
   "cell_type": "code",
   "execution_count": null,
   "metadata": {},
   "outputs": [],
   "source": []
  },
  {
   "cell_type": "code",
   "execution_count": null,
   "metadata": {},
   "outputs": [],
   "source": []
  }
 ],
 "metadata": {
  "kernelspec": {
   "display_name": "Python 3",
   "language": "python",
   "name": "python3"
  },
  "language_info": {
   "codemirror_mode": {
    "name": "ipython",
    "version": 3
   },
   "file_extension": ".py",
   "mimetype": "text/x-python",
   "name": "python",
   "nbconvert_exporter": "python",
   "pygments_lexer": "ipython3",
   "version": "3.7.3"
  }
 },
 "nbformat": 4,
 "nbformat_minor": 2
}
