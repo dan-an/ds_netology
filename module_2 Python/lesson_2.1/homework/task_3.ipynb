{
 "cells": [
  {
   "cell_type": "markdown",
   "metadata": {},
   "source": [
    "Задание 3.\n",
    "Разработать приложение для определения знака зодиака по дате рождения.\n",
    "Пример:\n",
    "\n",
    "Введите месяц: март\n",
    "Введите число: 6\n",
    "\n",
    "Вывод:\n",
    "Рыбы"
   ]
  },
  {
   "cell_type": "code",
   "execution_count": 1,
   "metadata": {},
   "outputs": [],
   "source": [
    "import datetime\n",
    "import time"
   ]
  },
  {
   "cell_type": "code",
   "execution_count": 31,
   "metadata": {},
   "outputs": [],
   "source": [
    "def get_zodiac_sign():\n",
    "    month_dictionary = {\n",
    "        'январь': 1,\n",
    "        'февраль': 2,\n",
    "        'март': 3,\n",
    "        'апрель': 4,\n",
    "        'май': 5,\n",
    "        'июнь': 6,\n",
    "        'июль': 7,\n",
    "        'август': 8,\n",
    "        'сентябрь': 9,\n",
    "        'октябрь': 10,\n",
    "        'ноябрь': 11,\n",
    "        'декабрь': 12,\n",
    "    }\n",
    "    month = month_dictionary[input(\"Введите месяц:\").lower()]\n",
    "    date = int(input(\"Введите число:\")) + 1\n",
    "    #так как используются только месяц и число - год не имеет значения, но он нужен для вычисления timestamp\n",
    "    year = 2020 if month == 1 and date <= 21 else 2019\n",
    "    \n",
    "    curr_timestamp = time.mktime(time.strptime(str(datetime.date(year, month, date)), '%Y-%m-%d'))\n",
    "    \n",
    "    if 1553126400 <= curr_timestamp and curr_timestamp < 1555804800:\n",
    "        print('Овен')\n",
    "    elif 1555804800 <= curr_timestamp and curr_timestamp < 1558396800:\n",
    "        print('Телец')\n",
    "    elif 1558396800 <= curr_timestamp and curr_timestamp < 1561161600:\n",
    "        print('Близнецы')\n",
    "    elif 1561161600 <= curr_timestamp and curr_timestamp < 1563840000:\n",
    "        print('Рак')\n",
    "    elif 1563840000 <= curr_timestamp and curr_timestamp < 1566604800:\n",
    "        print('Лев')\n",
    "    elif 1566604800 <= curr_timestamp and curr_timestamp < 1569283200:\n",
    "        print('Дева')\n",
    "    elif 1569283200 <= curr_timestamp and curr_timestamp < 1571875200:\n",
    "        print('Весы')\n",
    "    elif 1571875200 <= curr_timestamp and curr_timestamp < 1574467200:\n",
    "        print('Скорпион')\n",
    "    elif 1574467200 <= curr_timestamp and curr_timestamp < 1576972800:\n",
    "        print('Стрелец')\n",
    "    elif 1576972800 <= curr_timestamp and curr_timestamp < 1579564800:\n",
    "        print('Козерог')\n",
    "    elif 1548028800 <= curr_timestamp and curr_timestamp < 1550707200:\n",
    "        print('Водолей')\n",
    "    elif 1550707200 <= curr_timestamp and curr_timestamp < 1553126400:\n",
    "        print('Рыбы')"
   ]
  },
  {
   "cell_type": "code",
   "execution_count": 32,
   "metadata": {},
   "outputs": [
    {
     "name": "stdout",
     "output_type": "stream",
     "text": [
      "Введите месяц:март\n",
      "Введите число:14\n",
      "Рыбы\n"
     ]
    }
   ],
   "source": [
    "get_zodiac_sign()"
   ]
  }
 ],
 "metadata": {
  "kernelspec": {
   "display_name": "Python 3",
   "language": "python",
   "name": "python3"
  },
  "language_info": {
   "codemirror_mode": {
    "name": "ipython",
    "version": 3
   },
   "file_extension": ".py",
   "mimetype": "text/x-python",
   "name": "python",
   "nbconvert_exporter": "python",
   "pygments_lexer": "ipython3",
   "version": "3.7.3"
  }
 },
 "nbformat": 4,
 "nbformat_minor": 2
}
