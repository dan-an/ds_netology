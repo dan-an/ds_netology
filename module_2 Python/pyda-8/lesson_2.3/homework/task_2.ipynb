{
 "cells": [
  {
   "cell_type": "markdown",
   "metadata": {},
   "source": [
    "Задание 2\n",
    "Дан список описаний товаров descriptions:\n",
    "descriptions = [\n",
    "[“браслет”, “xiaomi”, “mi”, “band”, “2.”, “умный”, “браслет”, “xiaomi”, “mi”, “лидер”, “в”, “линейке”, “xiaomi.”, “фитнес”, “браслет”, “для”, “android”, “4.4,”, “ios”, “7,”, “экран”, “oled.”, “лучший”, “выбор”, “xiaomi”],\n",
    "[“браслет”, “huawei”, “honor”, “band”, “3.”, “фитнес”, “браслет”, “влагозащищенный”, “сенсорный”, “экран”, “android,”, “ios”, “мониторинг”, “сна”],\n",
    "[“браслет”, “samsung”, “gear”, “fit2”, “pro.”, “влагозащищенный”, “сенсорный”, “amoled-экран”, “мониторинг”, “сна,”, “калорий,”, “новинка”, “samsung”],\n",
    "]\n",
    "\n",
    "Есть подозрение, что некоторые описания содержат много дубликатов одних и тех же слов. Т. е. могут быть переоптимизированными. Для каждого описания товара выведите на экран разницу между количеством уникальных слов и общим количеством слов в этом описании."
   ]
  },
  {
   "cell_type": "code",
   "execution_count": 5,
   "metadata": {},
   "outputs": [],
   "source": [
    "def get_unique_delta(desc_list):\n",
    "    return [len(set(desc)) - len(desc) for desc in desc_list]"
   ]
  },
  {
   "cell_type": "code",
   "execution_count": 6,
   "metadata": {},
   "outputs": [
    {
     "data": {
      "text/plain": [
       "[-5, -1, -1]"
      ]
     },
     "execution_count": 6,
     "metadata": {},
     "output_type": "execute_result"
    }
   ],
   "source": [
    "descriptions = [ \n",
    "  [\n",
    "    \"браслет\",\n",
    "    \"xiaomi\", \n",
    "    \"mi\", \n",
    "    \"band\", \n",
    "    \"2.\", \n",
    "    \"умный\", \n",
    "    \"браслет\", \n",
    "    \"xiaomi\", \n",
    "    \"mi\", \n",
    "    \"лидер\", \n",
    "    \"в\", \n",
    "    \"линейке\", \n",
    "    \"xiaomi.\", \n",
    "    \"фитнес\", \n",
    "    \"браслет\", \n",
    "    \"для\", \n",
    "    \"android\", \n",
    "    \"4.4,\", \n",
    "    \"ios\", \n",
    "    \"7,\", \n",
    "    \"экран\", \n",
    "    \"oled.\", \n",
    "    \"лучший\", \n",
    "    \"выбор\", \n",
    "    \"xiaomi\"\n",
    "  ],\n",
    "  [\n",
    "    \"браслет\", \n",
    "    \"huawei\", \n",
    "    \"honor\", \n",
    "    \"band\", \n",
    "    \"3.\", \n",
    "    \"фитнес\", \n",
    "    \"браслет\", \n",
    "    \"влагозащищенный\", \n",
    "    \"сенсорный\", \n",
    "    \"экран\", \n",
    "    \"android,\", \n",
    "    \"ios\", \n",
    "    \"мониторинг\", \n",
    "    \"сна\"\n",
    "  ],\n",
    "  [\n",
    "    \"браслет\", \n",
    "    \"samsung\", \n",
    "    \"gear\", \n",
    "    \"fit2\", \n",
    "    \"pro.\", \n",
    "    \"влагозащищенный\", \n",
    "    \"сенсорный\", \n",
    "    \"amoled-экран\", \n",
    "    \"мониторинг\", \n",
    "    \"сна,\", \n",
    "    \"калорий,\", \n",
    "    \"новинка\", \n",
    "    \"samsung\"\n",
    "  ],\n",
    "]\n",
    "\n",
    "get_unique_delta(descriptions)"
   ]
  },
  {
   "cell_type": "code",
   "execution_count": null,
   "metadata": {},
   "outputs": [],
   "source": []
  }
 ],
 "metadata": {
  "kernelspec": {
   "display_name": "Python 3",
   "language": "python",
   "name": "python3"
  },
  "language_info": {
   "codemirror_mode": {
    "name": "ipython",
    "version": 3
   },
   "file_extension": ".py",
   "mimetype": "text/x-python",
   "name": "python",
   "nbconvert_exporter": "python",
   "pygments_lexer": "ipython3",
   "version": "3.7.3"
  }
 },
 "nbformat": 4,
 "nbformat_minor": 2
}
