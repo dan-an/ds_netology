{
 "cells": [
  {
   "cell_type": "markdown",
   "metadata": {},
   "source": [
    "## Задание 3"
   ]
  },
  {
   "cell_type": "markdown",
   "metadata": {},
   "source": [
    "Выберите страницу любого сайта с табличными данными. Импортируйте таблицы в pandas dataframe.\n",
    "Примеры страниц (необязательно брать именно эти):\n",
    "https://fortrader.org/quotes\n",
    "https://www.finanz.ru/valyuty/v-realnom-vremeni"
   ]
  },
  {
   "cell_type": "code",
   "execution_count": 1,
   "metadata": {},
   "outputs": [],
   "source": [
    "import pandas as pd"
   ]
  },
  {
   "cell_type": "code",
   "execution_count": 2,
   "metadata": {},
   "outputs": [],
   "source": [
    "mtg_data = pd.read_html('http://mtganalytics.net/cards', attrs={'class': 'table'},  encoding='utf-8')"
   ]
  },
  {
   "cell_type": "code",
   "execution_count": 3,
   "metadata": {},
   "outputs": [
    {
     "data": {
      "text/plain": [
       "[    Rank                        Name   Total Main Deck Sideboard   Price\n",
       " 0      1                   Mutavault  69.04%    69.04%     0.00%  $34.99\n",
       " 1      2           Nightveil Specter  44.48%    42.89%     1.59%   $9.98\n",
       " 2      3                Thoughtseize  37.62%    35.26%     2.36%  $15.99\n",
       " 3      4             Hero's Downfall  35.06%    35.06%     0.00%  $11.00\n",
       " 4      5      Underworld Connections  34.39%    33.82%     0.57%   $2.64\n",
       " 5      6           Desecration Demon  33.57%    33.57%     0.00%   $9.79\n",
       " 6      7                    Pack Rat  33.32%    32.94%     0.38%   $5.62\n",
       " 7      8               Dark Betrayal  30.92%     0.00%    30.92%   $0.25\n",
       " 8      9                Devour Flesh  28.40%    27.92%     0.48%   $0.23\n",
       " 9     10                     Gainsay  27.68%     0.00%    27.68%   $0.23\n",
       " 10    11  Jace, Architect of Thought  26.49%    21.55%     4.94%  $19.17\n",
       " 11    12   Gray Merchant of Asphodel  24.77%    24.77%     0.00%   $0.19\n",
       " 12    13             Lifebane Zombie  24.76%     1.39%    23.37%   $6.81\n",
       " 13    14                      Duress  24.74%     2.28%    22.46%   $0.16\n",
       " 14    15             Frostburn Weird  24.07%    24.07%     0.00%   $0.23\n",
       " 15    16              Pharika's Cure  23.66%     9.60%    14.06%   $0.15\n",
       " 16    17                 Last Breath  23.35%    16.92%     6.43%   $0.14\n",
       " 17    18          Stormbreath Dragon  22.67%    20.46%     2.21%  $17.99\n",
       " 18    19             Mizzium Mortars  21.74%    12.67%     9.07%   $3.16\n",
       " 19    20                    Dissolve  19.35%    14.33%     5.02%   $0.75\n",
       " 20    21                  Doom Blade  18.43%     2.47%    15.96%   $0.35\n",
       " 21    22      Nykthos, Shrine to Nyx  18.02%    18.02%     0.00%   $9.69\n",
       " 22    23     Elspeth, Sun's Champion  17.08%    15.59%     1.49%  $18.44\n",
       " 23    24             Supreme Verdict  16.87%    16.87%     0.00%   $5.00\n",
       " 24    25            Detention Sphere  16.87%    16.87%     0.00%   $1.76\n",
       " 25    26             Cloudfin Raptor  16.85%    16.85%     0.00%   $0.19\n",
       " 26    27             Tidebinder Mage  16.85%    16.85%     0.00%   $2.75\n",
       " 27    28            Judge's Familiar  16.85%    16.85%     0.00%   $0.74\n",
       " 28    29             Master of Waves  16.85%    16.85%     0.00%  $10.98\n",
       " 29    30      Thassa, God of the Sea  16.85%    16.85%     0.00%  $14.25]"
      ]
     },
     "execution_count": 3,
     "metadata": {},
     "output_type": "execute_result"
    }
   ],
   "source": [
    "mtg_data"
   ]
  }
 ],
 "metadata": {
  "kernelspec": {
   "display_name": "Python 3",
   "language": "python",
   "name": "python3"
  },
  "language_info": {
   "codemirror_mode": {
    "name": "ipython",
    "version": 3
   },
   "file_extension": ".py",
   "mimetype": "text/x-python",
   "name": "python",
   "nbconvert_exporter": "python",
   "pygments_lexer": "ipython3",
   "version": "3.8.0"
  }
 },
 "nbformat": 4,
 "nbformat_minor": 2
}
