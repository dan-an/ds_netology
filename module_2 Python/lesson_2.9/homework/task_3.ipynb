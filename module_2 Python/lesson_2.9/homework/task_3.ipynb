{
 "cells": [
  {
   "cell_type": "markdown",
   "metadata": {},
   "source": [
    "## Задание 3\n"
   ]
  },
  {
   "cell_type": "markdown",
   "metadata": {},
   "source": [
    "Решите систему уравнений: 4x + 2y + z = 4 x + 3y = 12 5y + 4z = -3"
   ]
  },
  {
   "cell_type": "code",
   "execution_count": 1,
   "metadata": {},
   "outputs": [],
   "source": [
    "import re\n",
    "import numpy as np\n",
    "from numpy import linalg"
   ]
  },
  {
   "cell_type": "code",
   "execution_count": 2,
   "metadata": {},
   "outputs": [],
   "source": [
    "equation = np.array([[4, 2, 1], [1, 3, 0], [0, 5, 4]])\n",
    "decisions = np.array([4, 12, -3])"
   ]
  },
  {
   "cell_type": "code",
   "execution_count": 3,
   "metadata": {},
   "outputs": [
    {
     "data": {
      "text/plain": [
       "array([ 0.46666667,  3.84444444, -5.55555556])"
      ]
     },
     "execution_count": 3,
     "metadata": {},
     "output_type": "execute_result"
    }
   ],
   "source": [
    "linalg.solve(equation, decisions)"
   ]
  },
  {
   "cell_type": "code",
   "execution_count": 4,
   "metadata": {},
   "outputs": [
    {
     "data": {
      "text/plain": [
       "True"
      ]
     },
     "execution_count": 4,
     "metadata": {},
     "output_type": "execute_result"
    }
   ],
   "source": [
    "np.allclose( np.dot(equation, linalg.solve(equation, decisions)), decisions )"
   ]
  },
  {
   "cell_type": "markdown",
   "metadata": {},
   "source": [
    "## Более сложный вариант решения"
   ]
  },
  {
   "cell_type": "code",
   "execution_count": 32,
   "metadata": {},
   "outputs": [],
   "source": [
    "def solve_line_sys(string):\n",
    "    variables = sorted([var for var in list(set(string)) if var.isalpha()])\n",
    "    pattern = re.compile('(([+-]*\\s*\\d*[a-z]\\s?)*[+-]*\\s*(\\d*[a-z]\\s?)*[+-]*\\s*(\\d*[a-z])*\\s*\\=\\s?[+-]*\\d+\\s*)')\n",
    "    raw_equations = pattern.findall(string)\n",
    "    equations_list = [eq_tuple[0].rstrip() for eq_tuple in raw_equations]\n",
    "    desc_tensor = np.array([int(re.search(r'\\=\\s?([+-]*\\d+)', eq).group(1)) for eq in equations_list])\n",
    "    koef_matrix = []\n",
    "    \n",
    "    for eq in equations_list:\n",
    "        variables_strings = [var.replace(' ', '').replace('+', '') for var in re.findall(r'[+-]*\\s*\\d*[a-z]\\s*', eq)]\n",
    "        koef_list = []\n",
    "        watched = []\n",
    "        \n",
    "        for var in variables:\n",
    "            empty = True\n",
    "            for var_str in variables_strings:\n",
    "                if var_str in watched:\n",
    "                    continue\n",
    "                elif (var in var_str):\n",
    "                    empty = False\n",
    "                    koef = re.match(r'([+-]*\\d*)[a-z]', var_str).group(1)\n",
    "                    koef_list.append(int(koef) if koef else 1)\n",
    "                    watched.append(var_str)\n",
    "                    break\n",
    "                else:\n",
    "                    empty = False\n",
    "                    koef_list.append(0)\n",
    "                    break\n",
    "            if empty:\n",
    "                koef_list.append(0)\n",
    "            \n",
    "        koef_matrix.append(koef_list)\n",
    "        \n",
    "    koef_matrix = np.array(koef_matrix)\n",
    "    \n",
    "    return linalg.solve(koef_matrix, desc_tensor)"
   ]
  },
  {
   "cell_type": "code",
   "execution_count": 33,
   "metadata": {},
   "outputs": [
    {
     "data": {
      "text/plain": [
       "array([ 0.46666667,  3.84444444, -5.55555556])"
      ]
     },
     "execution_count": 33,
     "metadata": {},
     "output_type": "execute_result"
    }
   ],
   "source": [
    "solve_line_sys('4x + 2y + z = 4 x + 3y = 12 5y + 4z = -3')"
   ]
  }
 ],
 "metadata": {
  "kernelspec": {
   "display_name": "Python 3",
   "language": "python",
   "name": "python3"
  },
  "language_info": {
   "codemirror_mode": {
    "name": "ipython",
    "version": 3
   },
   "file_extension": ".py",
   "mimetype": "text/x-python",
   "name": "python",
   "nbconvert_exporter": "python",
   "pygments_lexer": "ipython3",
   "version": "3.8.0"
  }
 },
 "nbformat": 4,
 "nbformat_minor": 2
}
