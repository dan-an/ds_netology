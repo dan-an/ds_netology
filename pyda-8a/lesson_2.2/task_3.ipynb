{
 "cells": [
  {
   "cell_type": "markdown",
   "metadata": {},
   "source": [
    "## Задание 3"
   ]
  },
  {
   "cell_type": "markdown",
   "metadata": {},
   "source": [
    "У нас есть список, содержащий информацию о среднедневной температуре в Фаренгейтах за недельный период по странам. Необходимо написать код, который рассчитает среднюю температуру за неделю в Цельсиях для каждой страны."
   ]
  },
  {
   "cell_type": "code",
   "execution_count": 7,
   "metadata": {},
   "outputs": [],
   "source": [
    "countries_temperature = [\n",
    " ['Thailand', [75.2, 77, 78.8, 73.4, 68, 75.2, 77]],\n",
    " ['Germany', [57.2, 55.4, 59, 59, 53.6, 55.4, 57.2]],\n",
    " ['Russia', [35.6, 37.4, 39.2, 41, 42.8, 39.2, 35.6]],\n",
    " ['Poland', [50, 50, 53.6, 57.2, 55.4, 55.4, 51.8]],\n",
    "]"
   ]
  },
  {
   "cell_type": "code",
   "execution_count": 13,
   "metadata": {},
   "outputs": [],
   "source": [
    "## решение через цикл\n",
    "def get_avg_temperature(countries):\n",
    "    result = {}\n",
    "    \n",
    "    for country in countries:\n",
    "        country_name = country[0]\n",
    "        daily_temp = country[1]\n",
    "        fahrenheit_weekly_temp = sum(daily_temp) / len(daily_temp)\n",
    "        celsius_weekly_temp = (fahrenheit_weekly_temp - 32) * 5 / 9\n",
    "        \n",
    "        result[country_name] = celsius_weekly_temp\n",
    "        \n",
    "    return result\n",
    "        "
   ]
  },
  {
   "cell_type": "code",
   "execution_count": 11,
   "metadata": {},
   "outputs": [],
   "source": [
    "## решение через dict comprehension\n",
    "def get_avg_temperature(countries):\n",
    "    return {country[0]: ((sum(country[1])/len(country[1])) - 32) * 5 / 9 for country in countries}"
   ]
  },
  {
   "cell_type": "code",
   "execution_count": 10,
   "metadata": {},
   "outputs": [
    {
     "data": {
      "text/plain": [
       "{'Thailand': 23.85714285714285,\n",
       " 'Germany': 13.71428571428571,\n",
       " 'Russia': 3.714285714285717,\n",
       " 'Poland': 11.857142857142856}"
      ]
     },
     "execution_count": 10,
     "metadata": {},
     "output_type": "execute_result"
    }
   ],
   "source": [
    "get_avg_temperature(countries_temperature)"
   ]
  },
  {
   "cell_type": "code",
   "execution_count": 12,
   "metadata": {},
   "outputs": [
    {
     "data": {
      "text/plain": [
       "{'Thailand': 23.85714285714285,\n",
       " 'Germany': 13.71428571428571,\n",
       " 'Russia': 3.714285714285717,\n",
       " 'Poland': 11.857142857142856}"
      ]
     },
     "execution_count": 12,
     "metadata": {},
     "output_type": "execute_result"
    }
   ],
   "source": [
    "get_avg_temperature(countries_temperature)"
   ]
  }
 ],
 "metadata": {
  "kernelspec": {
   "display_name": "Python 3",
   "language": "python",
   "name": "python3"
  },
  "language_info": {
   "codemirror_mode": {
    "name": "ipython",
    "version": 3
   },
   "file_extension": ".py",
   "mimetype": "text/x-python",
   "name": "python",
   "nbconvert_exporter": "python",
   "pygments_lexer": "ipython3",
   "version": "3.8.0"
  }
 },
 "nbformat": 4,
 "nbformat_minor": 2
}
